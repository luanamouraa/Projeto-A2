{
  "nbformat": 4,
  "nbformat_minor": 0,
  "metadata": {
    "colab": {
      "provenance": [],
      "authorship_tag": "ABX9TyOWy4r4kAletzVOhNtFh7C6",
      "include_colab_link": true
    },
    "kernelspec": {
      "name": "python3",
      "display_name": "Python 3"
    },
    "language_info": {
      "name": "python"
    }
  },
  "cells": [
    {
      "cell_type": "markdown",
      "metadata": {
        "id": "view-in-github",
        "colab_type": "text"
      },
      "source": [
        "<a href=\"https://colab.research.google.com/github/luanamouraa/Projeto-A2/blob/main/Raspagem_coment%C3%A1rios_A2.ipynb\" target=\"_parent\"><img src=\"https://colab.research.google.com/assets/colab-badge.svg\" alt=\"Open In Colab\"/></a>"
      ]
    },
    {
      "cell_type": "code",
      "execution_count": null,
      "metadata": {
        "id": "N28e0ETvwpRS"
      },
      "outputs": [],
      "source": [
        "#Review do Iphone 11 da apple no site da Amazon\n",
        "# Avaliar o comentário pelo sentimento\n",
        "\n",
        "!pip install requests\n",
        "!pip install beautifulsoup4\n",
        "!pip install webdriver\n",
        "!pip install selenium\n",
        "\n",
        "import requests\n",
        "from bs4 import BeautifulSoup\n",
        "import pandas as pd\n"
      ]
    },
    {
      "cell_type": "code",
      "source": [
        "url = 'https://www.amazon.com.br/Apple-MHDH3BR-A-iPhone-11-128-GB/product-reviews/B08N5G4CM2/ref=cm_cr_dp_d_show_all_btm?ie=UTF8&reviewerType=all_reviews'\n",
        "\n",
        "response = requests.get(url)\n",
        "soup = BeautifulSoup(response.text, 'html.parser')"
      ],
      "metadata": {
        "id": "n9JL4PNDbIpx"
      },
      "execution_count": 2,
      "outputs": []
    },
    {
      "cell_type": "code",
      "source": [
        "def extract_reviews(soup):\n",
        "    reviews = []\n",
        "    review_elements = soup.find_all('div', {'data-hook': 'review'})\n",
        "    for review_element in review_elements:\n",
        "        title = review_element.find('a', {'data-hook': 'review-title'}).get_text().strip()\n",
        "        text = review_element.find('span', {'data-hook': 'review-body'}).get_text().strip()\n",
        "        reviews.append({'title': title, 'text': text})\n",
        "\n",
        "    return reviews"
      ],
      "metadata": {
        "id": "KtUo4_G5hazt"
      },
      "execution_count": 7,
      "outputs": []
    },
    {
      "cell_type": "code",
      "source": [
        "reviews = extract_reviews(soup)"
      ],
      "metadata": {
        "id": "2Rfo4XL2U5Hq"
      },
      "execution_count": 8,
      "outputs": []
    },
    {
      "cell_type": "code",
      "source": [
        "reviews"
      ],
      "metadata": {
        "colab": {
          "base_uri": "https://localhost:8080/"
        },
        "id": "hLQATE_yg4XP",
        "outputId": "4a135af8-c126-4702-b64a-8f23143a32c8"
      },
      "execution_count": 10,
      "outputs": [
        {
          "output_type": "execute_result",
          "data": {
            "text/plain": [
              "[{'title': 'Aparelho esteticamente maravilhoso é absurdamente rápido e fluido.',\n",
              "  'text': 'Pontos fortes:1: o telefone realmente impressiona na velocidade, especialmente se você estiver vindo de um Android mais antigo, não top de linha. Ele não trava nem engasga de forma alguma, mesmo com dezenas de apps abertos em segundo plano.2: esteticamente impecável.3: ótimo valor de revenda, você consegue vender no futuro por um valor próximo do que pagou se o aparelho estiver bem conservado, sem riscos e com a saúde da bateria ok. O que é impossível no Android.Pontos negativos:1: a bateria as vezes é consumida surpreendentemente rápido, comigo pelo menos em casos de uso como ligações usando viva voz ou assistindo vídeos e streams, a bateria gasta uma porcentagem que dá até uma assustada. Não uso o celular para jogar qualquer coisa, mas suponho que a bateria esgota em tempo recorde com games.2: o celular vir sem carregador e não ter entrada para fones de ouvido com fio pode forçar o usuário a gastar um bom dinheiro adicional, e o celular já não é barato. Como é a primeira vez que compro um iPhone, naturalmente não tinha um carregador para ele e precisei investir cerca de 150 reais em um aqui na Amazon mesmo, pois é recomendando usar original da marca. Além disso, gosto de usar meus fones com fio, e precisei investir mais cerca de 70 reais num adaptador. Esses são inconvenientes que você pode querer levar em consideração na hora da compra e somar os gastos no valor total do produto. Espero que o carregador nem o fio estraguem tão cedo, e se na próxima troca for seguir na marca, que possa continuar usando ele.3: não tem biometria digital, os últimos aparelhos da Apple só usam reconhecimento facial, que particularmente acho bem menos prático. É rápido e tudo, mas vc precisa toda vez olhar pro celular pra destravar, e na biometria digital vc acostuma a pegar o celular já na posição certa e destravar em qualquer ambiente com mais facilidade e mais rápido.'},\n",
              " {'title': 'Excelente produto!',\n",
              "  'text': 'A mídia não pôde ser carregada.\\n                \\n\\n\\n\\n\\xa0Entrega: comprei o celular em uma quarta-feira (26/10/2022) e ele chegou na sexta-feira (28/10/2022) pela transportadora Sequoia.  Desempenho: migrei de um Xiaomi e a diferença de fluidez no sistema é gritante. Ele é muito rápido e não trava!  Câmera: comparado com meu Xiaomi, a diferença é muito grande. Ele tira fotos e grava vídeos com uma qualidade excelente, deixando as imagens muito realistas e detalhadas.  Bateria: a Apple sempre teve má fama no quesito bateria, tendo melhorado a partir do Iphone X. O que tenho a dizer é que eu, em uso moderado, consigo ficar o dia todo com o celular tranquilamente, necessitando carregá-lo apenas uma vez ao dia. Tendo isso em vista, digo que a duração da bateria dele está OK em relação aos outros celulares disponíveis, considerando seu desempenho. Ele demora cerca de uma hora para carregar completamente com carregador de 20W original Apple.  Custo-benefício: é de fato um aparelho muito caro, mas considerando que ele tem um ótimo valor de revenda, um desempenho e câmeras fenomenais e que você está, de certa forma, pagando também pelo símbolo da maça em seu smartphone, considero o preço que paguei (R$3.161, tendo ficado R$2844 com cashback via Zoom) um bom preço. Entretanto, saiba que você terá que comprar uma fonte de carregamento, pois ele não acompanha (paguei R$149,90 na original de 20W).'},\n",
              " {'title': 'Muito bom!',\n",
              "  'text': 'Do produto em si não temos o que falar. Sabemos que é bom! O problema foi só a entrega. Eles sequer tentaram entregar da primeira vez e disseram que não tinha ninguém pra receber. Depois que registrei a reclamação com a Amazon, logo vieram entregar no outro dia. Mas o entregador só faltou derrubar o portão e foi muito estupido. Enfim, estamos com o celular e estamos gostando, mas algumas empresas de entrega deveriam ser proibidas na Amazon.'},\n",
              " {'title': 'Perfeito',\n",
              "  'text': 'O celular é simplesmente impecável. A Amazon foi magnífica, todo o suporte que tive do sac foi perfeito também. Realizei o pedido 26/6/23 e estava previsto pra chegar dia 6/6/23, chegou antes dia 2/6/23. Tive um pequeno problema com a transportadora Total express, eles só atualizaram até dia 28 e o código disponibilizado não funcionou, voltei a ter notícias graças ao suporte da Amazon! Muito satisfeita'},\n",
              " {'title': 'Produto ótimo, prazo de entrega complicado',\n",
              "  'text': 'A mídia não pôde ser carregada.\\n                \\n\\n\\n\\n\\xa0Vamos iniciar pelo prazo de entrega:Comprei domingo (09/04) o celular e o carregador. No mesmo dia o carregador já foi liberado chegando na quarta (12/04). Já o celular foi enviado no dia 17/04 e chegou dia 26/04. A questão do celular não foi a \"demora\" para ser entregue, mas sim a falta de informação sobre uma data de envio, que ficou como \"envio pendente\" por mais de uma semana.Acredito que se houvesse uma melhor explicação sobre a data prevista seria muito mais tranquilizante. A entrega teve uma data estimada bem longa, a previsão era para chegar em 14 de Junho, o que de certa forma foi assustador, mas fiquei confiante que chegaria antes. Não tenho reclamações pelos dias que demoraram para chegar, somente de não ter desde o início uma data de previsão (já que o produto constava como \"em estoque\").A entrega foi realizada pelos correios, enviado como PAC. Achei que estava pouco protegido, somente uma folha amassada dentro.Sobre o produto:Até o momento está sendo ótimo, apanhei um pouco para configurar do jeito que gosto, mas já estou me adaptando. Achei que a bateria é OK, ela não dura tão pouco tempo como me alertaram e para carregar é bem rápido. É esteticamente muito lindo, menor do que estou acostumada, mas gostei dele.'},\n",
              " {'title': 'Entrega e produto impecáveis.',\n",
              "  'text': 'A Amazon como sempre, super rápida na entrega. O produto chegou em menos de 7 dias. Veio muito bem embalado. Estou super feliz com a aquisição!'},\n",
              " {'title': 'Ótimo, Original',\n",
              "  'text': 'Muito bom, celular original e com garantia. fiz a pesquisa do número de série no site da Apple e estava tudo certinho. Chegou bem rápido'},\n",
              " {'title': 'Vale muito o quanto custa!',\n",
              "  'text': 'É meu primeiro Iphone, após vários smartphones Android. Está sendo uma ótima experiência. Para um celular que foi lançado há quase 4 anos, parece super atual e não deixa nada a desejar em relação a outros mais recentes. Rápido, sistema operacional atualizado, boa autonomia da bateria, belo designe... Enfim... É um Iphone. O produto é original e veio na caixa lacrada.'},\n",
              " {'title': 'MUITO BOM CHEGOU TUDO CERTO',\n",
              "  'text': 'Muito satisfeito o produto. Chegou  super rapido e embalado corretamente .Apple é apple . Super indico .Veio pela  LOGGI TECNOLOGIA LTDA OTIMO !TUDO DE BOM'},\n",
              " {'title': 'Excelente produto',\n",
              "  'text': 'A entrega foi tranquila sem nem um danos a caixa ou ao produto, entrega rápida e estou muito satisfeito e agradecido pela agilidade da entrega'}]"
            ]
          },
          "metadata": {},
          "execution_count": 10
        }
      ]
    },
    {
      "cell_type": "code",
      "source": [
        "import pandas as pd\n",
        "\n",
        "df = pd.DataFrame(reviews)\n",
        "\n",
        "df.to_excel('Reviews_iphone.xlsx', index = False)"
      ],
      "metadata": {
        "id": "Q2YJeDW47M1f"
      },
      "execution_count": 12,
      "outputs": []
    },
    {
      "cell_type": "code",
      "source": [
        "!pip install transformers sentence-transformers torch"
      ],
      "metadata": {
        "id": "dRp37yd77Y3l"
      },
      "execution_count": null,
      "outputs": []
    },
    {
      "cell_type": "code",
      "source": [
        "from transformers import pipeline\n",
        "\n",
        "model_path = \"cardiffnlp/twitter-xlm-roberta-base-sentiment\"\n",
        "sentiment_task = pipeline(\"sentiment-analysis\", model=model_path, tokenizer=model_path)\n",
        "def sentimento(texto):\n",
        "    valor = sentiment_task(texto)\n",
        "    return valor[0]['label']"
      ],
      "metadata": {
        "id": "gDVYU6Kj8enQ"
      },
      "execution_count": 15,
      "outputs": []
    },
    {
      "cell_type": "code",
      "source": [
        "df['sentiment'] = df['text'].apply(sentimento)"
      ],
      "metadata": {
        "id": "tciTwVnl8zRQ"
      },
      "execution_count": 16,
      "outputs": []
    },
    {
      "cell_type": "code",
      "source": [
        "df.to_excel('Reviews_iphone.xlsx')"
      ],
      "metadata": {
        "id": "HTv__ByK8zXE"
      },
      "execution_count": 19,
      "outputs": []
    }
  ]
}